{
 "cells": [
  {
   "cell_type": "code",
   "execution_count": 2,
   "metadata": {},
   "outputs": [],
   "source": [
    "# Importación de librerías necesarias\n",
    "# -----------------------------------------------------------------------\n",
    "\n",
    "# Tratamiento de datos\n",
    "import pandas as pd\n",
    "import numpy as np \n",
    "# -----------------------------------------------------------------------\n",
    "\n",
    "# Imputación de nulos usando métodos avanzados estadísticos\n",
    "from sklearn.impute import SimpleImputer\n",
    "from sklearn.experimental import enable_iterative_imputer\n",
    "from sklearn.impute import IterativeImputer\n",
    "from sklearn.impute import KNNImputer\n",
    "# -----------------------------------------------------------------------\n",
    "\n",
    "# Visualización y gráficos\n",
    "import matplotlib.pyplot as plt\n",
    "import seaborn as sns\n",
    "# -----------------------------------------------------------------------\n",
    "\n",
    "# Configuración para visualizar todas las columnas de los DataFrames\n",
    "pd.set_option('display.max_columns', None)\n",
    "# -----------------------------------------------------------------------\n",
    "\n",
    "# Configuración para mejoras de la visualización\n",
    "from IPython.display import display\n",
    "# -----------------------------------------------------------------------\n",
    "\n",
    "# Gestión de warnings\n",
    "import warnings\n",
    "warnings.filterwarnings(\"ignore\")\n",
    "# -----------------------------------------------------------------------"
   ]
  },
  {
   "cell_type": "code",
   "execution_count": 3,
   "metadata": {},
   "outputs": [],
   "source": [
    "# Importación de DataFrames\n",
    "\n",
    "df_test = pd.read_csv(\"test.csv\")\n",
    "df_train = pd.read_csv(\"train.csv\")\n",
    "df_val = pd.read_csv(\"val.csv\")"
   ]
  },
  {
   "cell_type": "markdown",
   "metadata": {},
   "source": [
    "## 1. Exploratory Data Analysis 🫧"
   ]
  },
  {
   "cell_type": "markdown",
   "metadata": {},
   "source": [
    "### 1.1. **Data Exploration**"
   ]
  },
  {
   "cell_type": "code",
   "execution_count": 4,
   "metadata": {},
   "outputs": [
    {
     "data": {
      "text/html": [
       "<div>\n",
       "<style scoped>\n",
       "    .dataframe tbody tr th:only-of-type {\n",
       "        vertical-align: middle;\n",
       "    }\n",
       "\n",
       "    .dataframe tbody tr th {\n",
       "        vertical-align: top;\n",
       "    }\n",
       "\n",
       "    .dataframe thead th {\n",
       "        text-align: right;\n",
       "    }\n",
       "</style>\n",
       "<table border=\"1\" class=\"dataframe\">\n",
       "  <thead>\n",
       "    <tr style=\"text-align: right;\">\n",
       "      <th></th>\n",
       "      <th>User_ID</th>\n",
       "      <th>Age</th>\n",
       "      <th>Gender</th>\n",
       "      <th>Platform</th>\n",
       "      <th>Daily_Usage_Time (minutes)</th>\n",
       "      <th>Posts_Per_Day</th>\n",
       "      <th>Likes_Received_Per_Day</th>\n",
       "      <th>Comments_Received_Per_Day</th>\n",
       "      <th>Messages_Sent_Per_Day</th>\n",
       "      <th>Dominant_Emotion</th>\n",
       "    </tr>\n",
       "  </thead>\n",
       "  <tbody>\n",
       "    <tr>\n",
       "      <th>0</th>\n",
       "      <td>500</td>\n",
       "      <td>27</td>\n",
       "      <td>Female</td>\n",
       "      <td>Snapchat</td>\n",
       "      <td>120</td>\n",
       "      <td>4</td>\n",
       "      <td>40</td>\n",
       "      <td>18</td>\n",
       "      <td>22</td>\n",
       "      <td>Neutral</td>\n",
       "    </tr>\n",
       "    <tr>\n",
       "      <th>1</th>\n",
       "      <td>488</td>\n",
       "      <td>21</td>\n",
       "      <td>Non-binary</td>\n",
       "      <td>Snapchat</td>\n",
       "      <td>60</td>\n",
       "      <td>1</td>\n",
       "      <td>18</td>\n",
       "      <td>7</td>\n",
       "      <td>12</td>\n",
       "      <td>Neutral</td>\n",
       "    </tr>\n",
       "    <tr>\n",
       "      <th>2</th>\n",
       "      <td>776</td>\n",
       "      <td>28</td>\n",
       "      <td>Non-binary</td>\n",
       "      <td>Snapchat</td>\n",
       "      <td>115</td>\n",
       "      <td>3</td>\n",
       "      <td>38</td>\n",
       "      <td>18</td>\n",
       "      <td>27</td>\n",
       "      <td>Anxiety</td>\n",
       "    </tr>\n",
       "    <tr>\n",
       "      <th>3</th>\n",
       "      <td>869</td>\n",
       "      <td>27</td>\n",
       "      <td>Male</td>\n",
       "      <td>Telegram</td>\n",
       "      <td>105</td>\n",
       "      <td>3</td>\n",
       "      <td>48</td>\n",
       "      <td>20</td>\n",
       "      <td>28</td>\n",
       "      <td>Anxiety</td>\n",
       "    </tr>\n",
       "    <tr>\n",
       "      <th>4</th>\n",
       "      <td>573</td>\n",
       "      <td>21</td>\n",
       "      <td>Non-binary</td>\n",
       "      <td>Facebook</td>\n",
       "      <td>55</td>\n",
       "      <td>3</td>\n",
       "      <td>17</td>\n",
       "      <td>7</td>\n",
       "      <td>12</td>\n",
       "      <td>Neutral</td>\n",
       "    </tr>\n",
       "  </tbody>\n",
       "</table>\n",
       "</div>"
      ],
      "text/plain": [
       "   User_ID Age      Gender  Platform  Daily_Usage_Time (minutes)  \\\n",
       "0      500  27      Female  Snapchat                         120   \n",
       "1      488  21  Non-binary  Snapchat                          60   \n",
       "2      776  28  Non-binary  Snapchat                         115   \n",
       "3      869  27        Male  Telegram                         105   \n",
       "4      573  21  Non-binary  Facebook                          55   \n",
       "\n",
       "   Posts_Per_Day  Likes_Received_Per_Day  Comments_Received_Per_Day  \\\n",
       "0              4                      40                         18   \n",
       "1              1                      18                          7   \n",
       "2              3                      38                         18   \n",
       "3              3                      48                         20   \n",
       "4              3                      17                          7   \n",
       "\n",
       "   Messages_Sent_Per_Day Dominant_Emotion  \n",
       "0                     22          Neutral  \n",
       "1                     12          Neutral  \n",
       "2                     27          Anxiety  \n",
       "3                     28          Anxiety  \n",
       "4                     12          Neutral  "
      ]
     },
     "execution_count": 4,
     "metadata": {},
     "output_type": "execute_result"
    }
   ],
   "source": [
    "df_test.head()"
   ]
  },
  {
   "cell_type": "code",
   "execution_count": 5,
   "metadata": {},
   "outputs": [
    {
     "data": {
      "text/html": [
       "<div>\n",
       "<style scoped>\n",
       "    .dataframe tbody tr th:only-of-type {\n",
       "        vertical-align: middle;\n",
       "    }\n",
       "\n",
       "    .dataframe tbody tr th {\n",
       "        vertical-align: top;\n",
       "    }\n",
       "\n",
       "    .dataframe thead th {\n",
       "        text-align: right;\n",
       "    }\n",
       "</style>\n",
       "<table border=\"1\" class=\"dataframe\">\n",
       "  <thead>\n",
       "    <tr style=\"text-align: right;\">\n",
       "      <th></th>\n",
       "      <th>User_ID</th>\n",
       "      <th>Age</th>\n",
       "      <th>Gender</th>\n",
       "      <th>Platform</th>\n",
       "      <th>Daily_Usage_Time (minutes)</th>\n",
       "      <th>Posts_Per_Day</th>\n",
       "      <th>Likes_Received_Per_Day</th>\n",
       "      <th>Comments_Received_Per_Day</th>\n",
       "      <th>Messages_Sent_Per_Day</th>\n",
       "      <th>Dominant_Emotion</th>\n",
       "    </tr>\n",
       "  </thead>\n",
       "  <tbody>\n",
       "    <tr>\n",
       "      <th>0</th>\n",
       "      <td>1</td>\n",
       "      <td>25</td>\n",
       "      <td>Female</td>\n",
       "      <td>Instagram</td>\n",
       "      <td>120.0</td>\n",
       "      <td>3.0</td>\n",
       "      <td>45.0</td>\n",
       "      <td>10.0</td>\n",
       "      <td>12.0</td>\n",
       "      <td>Happiness</td>\n",
       "    </tr>\n",
       "    <tr>\n",
       "      <th>1</th>\n",
       "      <td>2</td>\n",
       "      <td>30</td>\n",
       "      <td>Male</td>\n",
       "      <td>Twitter</td>\n",
       "      <td>90.0</td>\n",
       "      <td>5.0</td>\n",
       "      <td>20.0</td>\n",
       "      <td>25.0</td>\n",
       "      <td>30.0</td>\n",
       "      <td>Anger</td>\n",
       "    </tr>\n",
       "    <tr>\n",
       "      <th>2</th>\n",
       "      <td>3</td>\n",
       "      <td>22</td>\n",
       "      <td>Non-binary</td>\n",
       "      <td>Facebook</td>\n",
       "      <td>60.0</td>\n",
       "      <td>2.0</td>\n",
       "      <td>15.0</td>\n",
       "      <td>5.0</td>\n",
       "      <td>20.0</td>\n",
       "      <td>Neutral</td>\n",
       "    </tr>\n",
       "    <tr>\n",
       "      <th>3</th>\n",
       "      <td>4</td>\n",
       "      <td>28</td>\n",
       "      <td>Female</td>\n",
       "      <td>Instagram</td>\n",
       "      <td>200.0</td>\n",
       "      <td>8.0</td>\n",
       "      <td>100.0</td>\n",
       "      <td>30.0</td>\n",
       "      <td>50.0</td>\n",
       "      <td>Anxiety</td>\n",
       "    </tr>\n",
       "    <tr>\n",
       "      <th>4</th>\n",
       "      <td>5</td>\n",
       "      <td>33</td>\n",
       "      <td>Male</td>\n",
       "      <td>LinkedIn</td>\n",
       "      <td>45.0</td>\n",
       "      <td>1.0</td>\n",
       "      <td>5.0</td>\n",
       "      <td>2.0</td>\n",
       "      <td>10.0</td>\n",
       "      <td>Boredom</td>\n",
       "    </tr>\n",
       "  </tbody>\n",
       "</table>\n",
       "</div>"
      ],
      "text/plain": [
       "  User_ID Age      Gender   Platform  Daily_Usage_Time (minutes)  \\\n",
       "0       1  25      Female  Instagram                       120.0   \n",
       "1       2  30        Male    Twitter                        90.0   \n",
       "2       3  22  Non-binary   Facebook                        60.0   \n",
       "3       4  28      Female  Instagram                       200.0   \n",
       "4       5  33        Male   LinkedIn                        45.0   \n",
       "\n",
       "   Posts_Per_Day  Likes_Received_Per_Day  Comments_Received_Per_Day  \\\n",
       "0            3.0                    45.0                       10.0   \n",
       "1            5.0                    20.0                       25.0   \n",
       "2            2.0                    15.0                        5.0   \n",
       "3            8.0                   100.0                       30.0   \n",
       "4            1.0                     5.0                        2.0   \n",
       "\n",
       "   Messages_Sent_Per_Day Dominant_Emotion  \n",
       "0                   12.0        Happiness  \n",
       "1                   30.0            Anger  \n",
       "2                   20.0          Neutral  \n",
       "3                   50.0          Anxiety  \n",
       "4                   10.0          Boredom  "
      ]
     },
     "execution_count": 5,
     "metadata": {},
     "output_type": "execute_result"
    }
   ],
   "source": [
    "df_train.head()"
   ]
  },
  {
   "cell_type": "code",
   "execution_count": 6,
   "metadata": {},
   "outputs": [
    {
     "data": {
      "text/html": [
       "<div>\n",
       "<style scoped>\n",
       "    .dataframe tbody tr th:only-of-type {\n",
       "        vertical-align: middle;\n",
       "    }\n",
       "\n",
       "    .dataframe tbody tr th {\n",
       "        vertical-align: top;\n",
       "    }\n",
       "\n",
       "    .dataframe thead th {\n",
       "        text-align: right;\n",
       "    }\n",
       "</style>\n",
       "<table border=\"1\" class=\"dataframe\">\n",
       "  <thead>\n",
       "    <tr style=\"text-align: right;\">\n",
       "      <th></th>\n",
       "      <th>User_ID</th>\n",
       "      <th>Age</th>\n",
       "      <th>Gender</th>\n",
       "      <th>Platform</th>\n",
       "      <th>Daily_Usage_Time (minutes)</th>\n",
       "      <th>Posts_Per_Day</th>\n",
       "      <th>Likes_Received_Per_Day</th>\n",
       "      <th>Comments_Received_Per_Day</th>\n",
       "      <th>Messages_Sent_Per_Day</th>\n",
       "      <th>Dominant_Emotion</th>\n",
       "    </tr>\n",
       "  </thead>\n",
       "  <tbody>\n",
       "    <tr>\n",
       "      <th>0</th>\n",
       "      <td>10</td>\n",
       "      <td>31</td>\n",
       "      <td>Male</td>\n",
       "      <td>Instagram</td>\n",
       "      <td>170</td>\n",
       "      <td>5</td>\n",
       "      <td>80</td>\n",
       "      <td>20</td>\n",
       "      <td>35</td>\n",
       "      <td>Happiness</td>\n",
       "    </tr>\n",
       "    <tr>\n",
       "      <th>1</th>\n",
       "      <td>877</td>\n",
       "      <td>32</td>\n",
       "      <td>Female</td>\n",
       "      <td>Instagram</td>\n",
       "      <td>155</td>\n",
       "      <td>6</td>\n",
       "      <td>75</td>\n",
       "      <td>25</td>\n",
       "      <td>38</td>\n",
       "      <td>Happiness</td>\n",
       "    </tr>\n",
       "    <tr>\n",
       "      <th>2</th>\n",
       "      <td>230</td>\n",
       "      <td>26</td>\n",
       "      <td>Non-binary</td>\n",
       "      <td>Facebook</td>\n",
       "      <td>45</td>\n",
       "      <td>1</td>\n",
       "      <td>8</td>\n",
       "      <td>4</td>\n",
       "      <td>12</td>\n",
       "      <td>Sadness</td>\n",
       "    </tr>\n",
       "    <tr>\n",
       "      <th>3</th>\n",
       "      <td>876</td>\n",
       "      <td>28</td>\n",
       "      <td>Non-binary</td>\n",
       "      <td>Snapchat</td>\n",
       "      <td>115</td>\n",
       "      <td>3</td>\n",
       "      <td>38</td>\n",
       "      <td>18</td>\n",
       "      <td>27</td>\n",
       "      <td>Anxiety</td>\n",
       "    </tr>\n",
       "    <tr>\n",
       "      <th>4</th>\n",
       "      <td>376</td>\n",
       "      <td>28</td>\n",
       "      <td>Non-binary</td>\n",
       "      <td>Snapchat</td>\n",
       "      <td>115</td>\n",
       "      <td>3</td>\n",
       "      <td>38</td>\n",
       "      <td>18</td>\n",
       "      <td>27</td>\n",
       "      <td>Anxiety</td>\n",
       "    </tr>\n",
       "  </tbody>\n",
       "</table>\n",
       "</div>"
      ],
      "text/plain": [
       "   User_ID Age      Gender   Platform  Daily_Usage_Time (minutes)  \\\n",
       "0       10  31        Male  Instagram                         170   \n",
       "1      877  32      Female  Instagram                         155   \n",
       "2      230  26  Non-binary   Facebook                          45   \n",
       "3      876  28  Non-binary   Snapchat                         115   \n",
       "4      376  28  Non-binary   Snapchat                         115   \n",
       "\n",
       "   Posts_Per_Day  Likes_Received_Per_Day  Comments_Received_Per_Day  \\\n",
       "0              5                      80                         20   \n",
       "1              6                      75                         25   \n",
       "2              1                       8                          4   \n",
       "3              3                      38                         18   \n",
       "4              3                      38                         18   \n",
       "\n",
       "  Messages_Sent_Per_Day Dominant_Emotion  \n",
       "0                    35        Happiness  \n",
       "1                    38        Happiness  \n",
       "2                    12          Sadness  \n",
       "3                    27          Anxiety  \n",
       "4                    27          Anxiety  "
      ]
     },
     "execution_count": 6,
     "metadata": {},
     "output_type": "execute_result"
    }
   ],
   "source": [
    "df_val.head()"
   ]
  },
  {
   "cell_type": "code",
   "execution_count": 7,
   "metadata": {},
   "outputs": [
    {
     "data": {
      "text/html": [
       "<div>\n",
       "<style scoped>\n",
       "    .dataframe tbody tr th:only-of-type {\n",
       "        vertical-align: middle;\n",
       "    }\n",
       "\n",
       "    .dataframe tbody tr th {\n",
       "        vertical-align: top;\n",
       "    }\n",
       "\n",
       "    .dataframe thead th {\n",
       "        text-align: right;\n",
       "    }\n",
       "</style>\n",
       "<table border=\"1\" class=\"dataframe\">\n",
       "  <thead>\n",
       "    <tr style=\"text-align: right;\">\n",
       "      <th></th>\n",
       "      <th>User_ID</th>\n",
       "      <th>Age</th>\n",
       "      <th>Gender</th>\n",
       "      <th>Platform</th>\n",
       "      <th>Daily_Usage_Time (minutes)</th>\n",
       "      <th>Posts_Per_Day</th>\n",
       "      <th>Likes_Received_Per_Day</th>\n",
       "      <th>Comments_Received_Per_Day</th>\n",
       "      <th>Messages_Sent_Per_Day</th>\n",
       "      <th>Dominant_Emotion</th>\n",
       "    </tr>\n",
       "  </thead>\n",
       "  <tbody>\n",
       "    <tr>\n",
       "      <th>0</th>\n",
       "      <td>500</td>\n",
       "      <td>27</td>\n",
       "      <td>Female</td>\n",
       "      <td>Snapchat</td>\n",
       "      <td>120.0</td>\n",
       "      <td>4.0</td>\n",
       "      <td>40.0</td>\n",
       "      <td>18.0</td>\n",
       "      <td>22</td>\n",
       "      <td>Neutral</td>\n",
       "    </tr>\n",
       "    <tr>\n",
       "      <th>1</th>\n",
       "      <td>488</td>\n",
       "      <td>21</td>\n",
       "      <td>Non-binary</td>\n",
       "      <td>Snapchat</td>\n",
       "      <td>60.0</td>\n",
       "      <td>1.0</td>\n",
       "      <td>18.0</td>\n",
       "      <td>7.0</td>\n",
       "      <td>12</td>\n",
       "      <td>Neutral</td>\n",
       "    </tr>\n",
       "    <tr>\n",
       "      <th>2</th>\n",
       "      <td>776</td>\n",
       "      <td>28</td>\n",
       "      <td>Non-binary</td>\n",
       "      <td>Snapchat</td>\n",
       "      <td>115.0</td>\n",
       "      <td>3.0</td>\n",
       "      <td>38.0</td>\n",
       "      <td>18.0</td>\n",
       "      <td>27</td>\n",
       "      <td>Anxiety</td>\n",
       "    </tr>\n",
       "    <tr>\n",
       "      <th>3</th>\n",
       "      <td>869</td>\n",
       "      <td>27</td>\n",
       "      <td>Male</td>\n",
       "      <td>Telegram</td>\n",
       "      <td>105.0</td>\n",
       "      <td>3.0</td>\n",
       "      <td>48.0</td>\n",
       "      <td>20.0</td>\n",
       "      <td>28</td>\n",
       "      <td>Anxiety</td>\n",
       "    </tr>\n",
       "    <tr>\n",
       "      <th>4</th>\n",
       "      <td>573</td>\n",
       "      <td>21</td>\n",
       "      <td>Non-binary</td>\n",
       "      <td>Facebook</td>\n",
       "      <td>55.0</td>\n",
       "      <td>3.0</td>\n",
       "      <td>17.0</td>\n",
       "      <td>7.0</td>\n",
       "      <td>12</td>\n",
       "      <td>Neutral</td>\n",
       "    </tr>\n",
       "  </tbody>\n",
       "</table>\n",
       "</div>"
      ],
      "text/plain": [
       "  User_ID Age      Gender  Platform  Daily_Usage_Time (minutes)  \\\n",
       "0     500  27      Female  Snapchat                       120.0   \n",
       "1     488  21  Non-binary  Snapchat                        60.0   \n",
       "2     776  28  Non-binary  Snapchat                       115.0   \n",
       "3     869  27        Male  Telegram                       105.0   \n",
       "4     573  21  Non-binary  Facebook                        55.0   \n",
       "\n",
       "   Posts_Per_Day  Likes_Received_Per_Day  Comments_Received_Per_Day  \\\n",
       "0            4.0                    40.0                       18.0   \n",
       "1            1.0                    18.0                        7.0   \n",
       "2            3.0                    38.0                       18.0   \n",
       "3            3.0                    48.0                       20.0   \n",
       "4            3.0                    17.0                        7.0   \n",
       "\n",
       "  Messages_Sent_Per_Day Dominant_Emotion  \n",
       "0                    22          Neutral  \n",
       "1                    12          Neutral  \n",
       "2                    27          Anxiety  \n",
       "3                    28          Anxiety  \n",
       "4                    12          Neutral  "
      ]
     },
     "execution_count": 7,
     "metadata": {},
     "output_type": "execute_result"
    }
   ],
   "source": [
    "#vemos que los tres dataframes tienen la misma estructura por lo que vamos a unirlos para después continuar con el EDA\n",
    "\n",
    "df = pd.concat([df_test, df_train, df_val], axis=0)\n",
    "df.head()"
   ]
  },
  {
   "cell_type": "code",
   "execution_count": 8,
   "metadata": {},
   "outputs": [
    {
     "name": "stdout",
     "output_type": "stream",
     "text": [
      "<class 'pandas.core.frame.DataFrame'>\n",
      "Index: 1252 entries, 0 to 147\n",
      "Data columns (total 10 columns):\n",
      " #   Column                      Non-Null Count  Dtype  \n",
      "---  ------                      --------------  -----  \n",
      " 0   User_ID                     1252 non-null   object \n",
      " 1   Age                         1252 non-null   object \n",
      " 2   Gender                      1251 non-null   object \n",
      " 3   Platform                    1251 non-null   object \n",
      " 4   Daily_Usage_Time (minutes)  1251 non-null   float64\n",
      " 5   Posts_Per_Day               1251 non-null   float64\n",
      " 6   Likes_Received_Per_Day      1251 non-null   float64\n",
      " 7   Comments_Received_Per_Day   1251 non-null   float64\n",
      " 8   Messages_Sent_Per_Day       1251 non-null   object \n",
      " 9   Dominant_Emotion            1250 non-null   object \n",
      "dtypes: float64(4), object(6)\n",
      "memory usage: 107.6+ KB\n"
     ]
    }
   ],
   "source": [
    "df.info()"
   ]
  },
  {
   "cell_type": "code",
   "execution_count": 9,
   "metadata": {},
   "outputs": [
    {
     "data": {
      "text/plain": [
       "(1252, 10)"
      ]
     },
     "execution_count": 9,
     "metadata": {},
     "output_type": "execute_result"
    }
   ],
   "source": [
    "df.shape"
   ]
  },
  {
   "cell_type": "code",
   "execution_count": 10,
   "metadata": {},
   "outputs": [
    {
     "data": {
      "text/plain": [
       "Index(['User_ID', 'Age', 'Gender', 'Platform', 'Daily_Usage_Time (minutes)',\n",
       "       'Posts_Per_Day', 'Likes_Received_Per_Day', 'Comments_Received_Per_Day',\n",
       "       'Messages_Sent_Per_Day', 'Dominant_Emotion'],\n",
       "      dtype='object')"
      ]
     },
     "execution_count": 10,
     "metadata": {},
     "output_type": "execute_result"
    }
   ],
   "source": [
    "df.columns"
   ]
  },
  {
   "cell_type": "code",
   "execution_count": 11,
   "metadata": {},
   "outputs": [
    {
     "data": {
      "text/plain": [
       "User_ID                       1218\n",
       "Messages_Sent_Per_Day           59\n",
       "Likes_Received_Per_Day          56\n",
       "Daily_Usage_Time (minutes)      35\n",
       "Comments_Received_Per_Day       31\n",
       "Gender                          20\n",
       "Age                             19\n",
       "Posts_Per_Day                   10\n",
       "Platform                         8\n",
       "Dominant_Emotion                 7\n",
       "dtype: int64"
      ]
     },
     "execution_count": 11,
     "metadata": {},
     "output_type": "execute_result"
    }
   ],
   "source": [
    "#vemos los valores únicos que tiene cada columna\n",
    "df.nunique().sort_values(ascending=False)"
   ]
  },
  {
   "cell_type": "code",
   "execution_count": 12,
   "metadata": {},
   "outputs": [
    {
     "data": {
      "text/html": [
       "<div>\n",
       "<style scoped>\n",
       "    .dataframe tbody tr th:only-of-type {\n",
       "        vertical-align: middle;\n",
       "    }\n",
       "\n",
       "    .dataframe tbody tr th {\n",
       "        vertical-align: top;\n",
       "    }\n",
       "\n",
       "    .dataframe thead th {\n",
       "        text-align: right;\n",
       "    }\n",
       "</style>\n",
       "<table border=\"1\" class=\"dataframe\">\n",
       "  <thead>\n",
       "    <tr style=\"text-align: right;\">\n",
       "      <th></th>\n",
       "      <th>count</th>\n",
       "      <th>mean</th>\n",
       "      <th>std</th>\n",
       "      <th>min</th>\n",
       "      <th>25%</th>\n",
       "      <th>50%</th>\n",
       "      <th>75%</th>\n",
       "      <th>max</th>\n",
       "    </tr>\n",
       "  </thead>\n",
       "  <tbody>\n",
       "    <tr>\n",
       "      <th>Daily_Usage_Time (minutes)</th>\n",
       "      <td>1251.0</td>\n",
       "      <td>95.283773</td>\n",
       "      <td>39.115094</td>\n",
       "      <td>1.0</td>\n",
       "      <td>65.0</td>\n",
       "      <td>85.0</td>\n",
       "      <td>120.0</td>\n",
       "      <td>210.0</td>\n",
       "    </tr>\n",
       "    <tr>\n",
       "      <th>Posts_Per_Day</th>\n",
       "      <td>1251.0</td>\n",
       "      <td>3.314948</td>\n",
       "      <td>1.932027</td>\n",
       "      <td>1.0</td>\n",
       "      <td>2.0</td>\n",
       "      <td>3.0</td>\n",
       "      <td>4.0</td>\n",
       "      <td>10.0</td>\n",
       "    </tr>\n",
       "    <tr>\n",
       "      <th>Likes_Received_Per_Day</th>\n",
       "      <td>1251.0</td>\n",
       "      <td>39.300560</td>\n",
       "      <td>26.205419</td>\n",
       "      <td>2.0</td>\n",
       "      <td>19.0</td>\n",
       "      <td>30.0</td>\n",
       "      <td>50.0</td>\n",
       "      <td>110.0</td>\n",
       "    </tr>\n",
       "    <tr>\n",
       "      <th>Comments_Received_Per_Day</th>\n",
       "      <td>1251.0</td>\n",
       "      <td>15.403677</td>\n",
       "      <td>8.714454</td>\n",
       "      <td>2.0</td>\n",
       "      <td>8.0</td>\n",
       "      <td>14.0</td>\n",
       "      <td>21.0</td>\n",
       "      <td>40.0</td>\n",
       "    </tr>\n",
       "  </tbody>\n",
       "</table>\n",
       "</div>"
      ],
      "text/plain": [
       "                             count       mean        std  min   25%   50%  \\\n",
       "Daily_Usage_Time (minutes)  1251.0  95.283773  39.115094  1.0  65.0  85.0   \n",
       "Posts_Per_Day               1251.0   3.314948   1.932027  1.0   2.0   3.0   \n",
       "Likes_Received_Per_Day      1251.0  39.300560  26.205419  2.0  19.0  30.0   \n",
       "Comments_Received_Per_Day   1251.0  15.403677   8.714454  2.0   8.0  14.0   \n",
       "\n",
       "                              75%    max  \n",
       "Daily_Usage_Time (minutes)  120.0  210.0  \n",
       "Posts_Per_Day                 4.0   10.0  \n",
       "Likes_Received_Per_Day       50.0  110.0  \n",
       "Comments_Received_Per_Day    21.0   40.0  "
      ]
     },
     "execution_count": 12,
     "metadata": {},
     "output_type": "execute_result"
    }
   ],
   "source": [
    "df.describe().T"
   ]
  },
  {
   "cell_type": "code",
   "execution_count": 13,
   "metadata": {},
   "outputs": [
    {
     "data": {
      "text/plain": [
       "11"
      ]
     },
     "execution_count": 13,
     "metadata": {},
     "output_type": "execute_result"
    }
   ],
   "source": [
    "df.duplicated().sum()"
   ]
  },
  {
   "cell_type": "code",
   "execution_count": 14,
   "metadata": {},
   "outputs": [
    {
     "data": {
      "text/plain": [
       "Dominant_Emotion              2\n",
       "Gender                        1\n",
       "Platform                      1\n",
       "Daily_Usage_Time (minutes)    1\n",
       "Posts_Per_Day                 1\n",
       "Likes_Received_Per_Day        1\n",
       "Comments_Received_Per_Day     1\n",
       "Messages_Sent_Per_Day         1\n",
       "User_ID                       0\n",
       "Age                           0\n",
       "dtype: int64"
      ]
     },
     "execution_count": 14,
     "metadata": {},
     "output_type": "execute_result"
    }
   ],
   "source": [
    "nulls = df.isnull().sum()\n",
    "nulls.sort_values(ascending=False)"
   ]
  },
  {
   "cell_type": "code",
   "execution_count": 15,
   "metadata": {},
   "outputs": [
    {
     "data": {
      "text/plain": [
       "Index(['Gender', 'Platform', 'Daily_Usage_Time (minutes)', 'Posts_Per_Day',\n",
       "       'Likes_Received_Per_Day', 'Comments_Received_Per_Day',\n",
       "       'Messages_Sent_Per_Day', 'Dominant_Emotion'],\n",
       "      dtype='object')"
      ]
     },
     "execution_count": 15,
     "metadata": {},
     "output_type": "execute_result"
    }
   ],
   "source": [
    "nulls_percentage = nulls/df.shape[0]*100 # transformamos los nulos a porcentajes de nulos\n",
    "\n",
    "columns_with_nulls = df.columns[df.isnull().any()]\n",
    "columns_with_nulls"
   ]
  },
  {
   "cell_type": "markdown",
   "metadata": {},
   "source": [
    "**Observaciones del EDA:**\n",
    "\n",
    "- **'User_ID'**: parece que tiene duplicados. El df tiene en total 1252 filas pero sólo hay 1218 IDs únicos. El tipo de dato tendría que ser int, no object.\n",
    "- (CRIS)**'Age'**: el tipo de dato debería de ser int. Revisar los valores únicos.\n",
    "- (CRIS)**'Gender'**: tiene nulos y hay que revisar los valores únicos.\n",
    "- (CRIS)**'Platform'**: tiene nulos\n",
    "- (ELISA)**'Daily_Usage_Time (minutes)'**: tiene nulos, revisar tipo de dato (int o float?)\n",
    "- (ELISA)**'Posts_Per_Day'**: tiene nulos, revisar tipo de dato (int o float?)\n",
    "- (ELISA)**'Likes_Received_Per_Day'**:tiene nulos, revisar tipo de dato (int o float?)\n",
    "- (JESSICA)**'Comments_Received_Per_Day'**: tiene nulos, revisar tipo de dato (int o float?)\n",
    "- (JESSICA)**'Messages_Sent_Per_Day'**: tiene nulos, el tipo de dato debería ser int o float, no object\n",
    "- (JESSICA)**'Dominant_Emotion'**: tiene nulos\n"
   ]
  },
  {
   "cell_type": "markdown",
   "metadata": {},
   "source": [
    "### 1.2. **Data Cleaning**"
   ]
  },
  {
   "cell_type": "markdown",
   "metadata": {},
   "source": [
    "#### **Nulls Management**"
   ]
  },
  {
   "cell_type": "markdown",
   "metadata": {},
   "source": [
    "#### Para la gestión de nulos vamos a separar las variables entre categóricas y numéricas."
   ]
  },
  {
   "cell_type": "markdown",
   "metadata": {},
   "source": [
    "### NUMERICAL"
   ]
  },
  {
   "cell_type": "code",
   "execution_count": 16,
   "metadata": {},
   "outputs": [
    {
     "data": {
      "text/plain": [
       "Index(['Daily_Usage_Time (minutes)', 'Posts_Per_Day', 'Likes_Received_Per_Day',\n",
       "       'Comments_Received_Per_Day'],\n",
       "      dtype='object')"
      ]
     },
     "execution_count": 16,
     "metadata": {},
     "output_type": "execute_result"
    }
   ],
   "source": [
    "numerical_with_nulls = df[df.columns[df.isnull().any()]].select_dtypes(include = \"number\").columns\n",
    "numerical_with_nulls"
   ]
  },
  {
   "cell_type": "code",
   "execution_count": 17,
   "metadata": {},
   "outputs": [
    {
     "name": "stdout",
     "output_type": "stream",
     "text": [
      "El porcentaje de nulos de DAILY_USAGE_TIME (MINUTES) es 0.08.\n"
     ]
    },
    {
     "data": {
      "image/png": "[encoded data removed]",
      "text/plain": [
       "<Figure size 800x500 with 1 Axes>"
      ]
     },
     "metadata": {},
     "output_type": "display_data"
    },
    {
     "name": "stdout",
     "output_type": "stream",
     "text": [
      "El porcentaje de nulos de POSTS_PER_DAY es 0.08.\n"
     ]
    },
    {
     "data": {
      "image/png": "[encoded data removed]",
      "text/plain": [
       "<Figure size 800x500 with 1 Axes>"
      ]
     },
     "metadata": {},
     "output_type": "display_data"
    },
    {
     "name": "stdout",
     "output_type": "stream",
     "text": [
      "El porcentaje de nulos de LIKES_RECEIVED_PER_DAY es 0.08.\n"
     ]
    },
    {
     "data": {
      "image/png": "[encoded data removed]",
      "text/plain": [
       "<Figure size 800x500 with 1 Axes>"
      ]
     },
     "metadata": {},
     "output_type": "display_data"
    },
    {
     "name": "stdout",
     "output_type": "stream",
     "text": [
      "El porcentaje de nulos de COMMENTS_RECEIVED_PER_DAY es 0.08.\n"
     ]
    },
    {
     "data": {
      "image/png": "[encoded data removed]",
      "text/plain": [
       "<Figure size 800x500 with 1 Axes>"
      ]
     },
     "metadata": {},
     "output_type": "display_data"
    }
   ],
   "source": [
    "for col in list(numerical_with_nulls):\n",
    "    print(f'El porcentaje de nulos de {col.upper()} es {np.round((nulls_percentage[col]), 2)}.')\n",
    "    plt.figure(figsize=(8, 5))\n",
    "    plt.hist(df[col].dropna(), bins=30, color='skyblue', edgecolor='black')\n",
    "    plt.title(f'Histograma de {col}')\n",
    "    plt.xlabel(col)\n",
    "    plt.ylabel('Frecuencia')\n",
    "    plt.show()"
   ]
  },
  {
   "cell_type": "markdown",
   "metadata": {},
   "source": [
    "#### Observaciones:\n",
    "\n",
    "- **'Daily_Usage_Time (minutes)'**: bajo % de nulos + distribución no simétrica -> imputación con la mediana. \n",
    "- **'Posts_Per_Day'**: bajo % de nulos + distribución no simétrica -> imputación con la mediana. \n",
    "- **'Likes_Received_Per_Day'**: bajo % de nulos + distribución no simétrica -> imputación con la mediana. "
   ]
  },
  {
   "cell_type": "code",
   "execution_count": 18,
   "metadata": {},
   "outputs": [],
   "source": [
    "#sustituimos nulos por la mediana\n",
    "\n",
    "df['Daily_Usage_Time (minutes)'] = df['Daily_Usage_Time (minutes)'].fillna(df['Daily_Usage_Time (minutes)'].median())\n",
    "df['Posts_Per_Day'] = df['Posts_Per_Day'].fillna(df['Posts_Per_Day'].median())\n",
    "df['Likes_Received_Per_Day'] = df['Likes_Received_Per_Day'].fillna(df['Likes_Received_Per_Day'].median())\n"
   ]
  },
  {
   "cell_type": "markdown",
   "metadata": {},
   "source": [
    "### **Age** 🔞"
   ]
  },
  {
   "cell_type": "code",
   "execution_count": 19,
   "metadata": {},
   "outputs": [
    {
     "data": {
      "text/plain": [
       "array(['27', '21', '28', '25', '24', '33', '32', '23', '35', '31', '34',\n",
       "       '29', '22', '26', '30', 'Male', 'Female', 'Non-binary',\n",
       "       ' işte mevcut veri kümesini 1000 satıra tamamlıyorum:'],\n",
       "      dtype=object)"
      ]
     },
     "execution_count": 19,
     "metadata": {},
     "output_type": "execute_result"
    }
   ],
   "source": [
    "#la columna Age no tiene nulos inicialmente, pero sí tiene valores atípicos por lo que vamos a tratarlos aquí \n",
    "df[\"Age\"].unique()"
   ]
  },
  {
   "cell_type": "code",
   "execution_count": 20,
   "metadata": {},
   "outputs": [],
   "source": [
    "# Tenemos 4 datos no numericos, vamos a llenarlos con nulos para tratarlos\n",
    "df['Age'] = pd.to_numeric(df['Age'], errors='coerce')"
   ]
  },
  {
   "cell_type": "code",
   "execution_count": 21,
   "metadata": {},
   "outputs": [
    {
     "data": {
      "image/png": "[encoded data removed]",
      "text/plain": [
       "<Figure size 800x500 with 1 Axes>"
      ]
     },
     "metadata": {},
     "output_type": "display_data"
    }
   ],
   "source": [
    "# Filtrar los valores nulos en la columna Age\n",
    "df_null = df[df[\"Age\"].isnull()]\n",
    "\n",
    "# Crear histograma de los valores nulos (en este caso, contar cuántos hay por índice)\n",
    "plt.figure(figsize=(8, 5))\n",
    "plt.hist(df_null.index, bins=30, color='skyblue', edgecolor='black')\n",
    "plt.title('Distribución de los nulos en Age')\n",
    "plt.xlabel('Índice')\n",
    "plt.ylabel('Frecuencia de nulos')\n",
    "plt.show()"
   ]
  },
  {
   "cell_type": "code",
   "execution_count": 22,
   "metadata": {},
   "outputs": [
    {
     "name": "stdout",
     "output_type": "stream",
     "text": [
      "La distribución de las categorías (incluyendo nulos 🏴) para la columna 'Age':\n"
     ]
    },
    {
     "data": {
      "text/plain": [
       "Age\n",
       "28.0    9.584665\n",
       "27.0    9.265176\n",
       "29.0    8.865815\n",
       "NaN     7.348243\n",
       "26.0    7.028754\n",
       "22.0    6.869010\n",
       "24.0    6.709265\n",
       "31.0    6.549521\n",
       "25.0    6.309904\n",
       "21.0    5.511182\n",
       "23.0    5.431310\n",
       "33.0    5.351438\n",
       "30.0    4.233227\n",
       "32.0    3.753994\n",
       "35.0    3.674121\n",
       "34.0    3.514377\n",
       "Name: proportion, dtype: float64"
      ]
     },
     "metadata": {},
     "output_type": "display_data"
    },
    {
     "name": "stdout",
     "output_type": "stream",
     "text": [
      "........................\n"
     ]
    }
   ],
   "source": [
    "columna = \"Age\"  # Nombre de la columna a analizar\n",
    "\n",
    "# Verificar si la columna existe y tiene valores nulos\n",
    "if columna in df.columns and df[columna].isnull().any():\n",
    "    print(f\"La distribución de las categorías (incluyendo nulos 🏴) para la columna '{columna}':\")\n",
    "    display(df[columna].value_counts(dropna=False, normalize=True) * 100)\n",
    "    print(\"........................\")\n",
    "else:\n",
    "    print(f\"La columna '{columna}' no existe, no tiene nulos o no es de tipo texto (object).\")"
   ]
  },
  {
   "cell_type": "code",
   "execution_count": 23,
   "metadata": {},
   "outputs": [],
   "source": [
    "# En edad tenemos un bajo % de nulos, un 7,35%. Vamos a llenar con la mediana\n",
    "df['Age'].fillna(df['Age'].median(), inplace=True)"
   ]
  },
  {
   "cell_type": "markdown",
   "metadata": {},
   "source": [
    "### **Comments_Received_Per_Day**"
   ]
  },
  {
   "cell_type": "code",
   "execution_count": 24,
   "metadata": {},
   "outputs": [
    {
     "name": "stdout",
     "output_type": "stream",
     "text": [
      "El número de valores nulos en 'Comments_Received_Per_Day' es: 1\n"
     ]
    }
   ],
   "source": [
    "# Contar el número de valores nulos en la columna 'Comments_Received_Per_Day'\n",
    "nulos = df[\"Comments_Received_Per_Day\"].isnull().sum()\n",
    "\n",
    "print(f\"El número de valores nulos en 'Comments_Received_Per_Day' es: {nulos}\")\n"
   ]
  },
  {
   "cell_type": "code",
   "execution_count": 25,
   "metadata": {},
   "outputs": [
    {
     "data": {
      "text/plain": [
       "array([18.,  7., 20., 26.,  5., 22., 12., 28.,  8., 10.,  6., 13., 14.,\n",
       "       30.,  4., 25., 16., 15., 11.,  2., 33.,  9., 40., 19., 23.,  3.,\n",
       "       17., 35., 38., 36., nan, 21.])"
      ]
     },
     "execution_count": 25,
     "metadata": {},
     "output_type": "execute_result"
    }
   ],
   "source": [
    "df[\"Comments_Received_Per_Day\"].unique()"
   ]
  },
  {
   "cell_type": "code",
   "execution_count": 26,
   "metadata": {},
   "outputs": [
    {
     "data": {
      "text/plain": [
       "Comments_Received_Per_Day\n",
       "18.0    100\n",
       "10.0     91\n",
       "20.0     88\n",
       "7.0      81\n",
       "12.0     77\n",
       "8.0      75\n",
       "5.0      71\n",
       "14.0     70\n",
       "30.0     66\n",
       "25.0     63\n",
       "6.0      62\n",
       "4.0      61\n",
       "22.0     59\n",
       "16.0     44\n",
       "11.0     29\n",
       "26.0     26\n",
       "23.0     23\n",
       "28.0     21\n",
       "13.0     20\n",
       "19.0     17\n",
       "9.0      13\n",
       "40.0     12\n",
       "15.0     12\n",
       "2.0      11\n",
       "33.0     10\n",
       "17.0     10\n",
       "35.0     10\n",
       "38.0     10\n",
       "36.0     10\n",
       "21.0      5\n",
       "3.0       4\n",
       "NaN       1\n",
       "Name: count, dtype: int64"
      ]
     },
     "execution_count": 26,
     "metadata": {},
     "output_type": "execute_result"
    }
   ],
   "source": [
    "df[\"Comments_Received_Per_Day\"].value_counts(dropna=False)"
   ]
  },
  {
   "cell_type": "code",
   "execution_count": 27,
   "metadata": {},
   "outputs": [],
   "source": [
    "# Sustituir el nulo con la mediana de la columna\n",
    "df[\"Comments_Received_Per_Day\"] = df[\"Comments_Received_Per_Day\"].fillna(df[\"Comments_Received_Per_Day\"].median())\n"
   ]
  },
  {
   "cell_type": "code",
   "execution_count": 28,
   "metadata": {},
   "outputs": [],
   "source": [
    "#Cambiamos el tipo de dato a int\n",
    "df[\"Comments_Received_Per_Day\"] = df[\"Comments_Received_Per_Day\"].astype(int)"
   ]
  },
  {
   "cell_type": "markdown",
   "metadata": {},
   "source": [
    "### CATEGORICAL"
   ]
  },
  {
   "cell_type": "code",
   "execution_count": 29,
   "metadata": {},
   "outputs": [
    {
     "data": {
      "text/plain": [
       "Index(['Gender', 'Platform', 'Messages_Sent_Per_Day', 'Dominant_Emotion'], dtype='object')"
      ]
     },
     "execution_count": 29,
     "metadata": {},
     "output_type": "execute_result"
    }
   ],
   "source": [
    "categorical_with_nulls = df[df.columns[df.isnull().any()]].select_dtypes(include = \"O\").columns\n",
    "categorical_with_nulls"
   ]
  },
  {
   "cell_type": "code",
   "execution_count": 30,
   "metadata": {},
   "outputs": [
    {
     "name": "stdout",
     "output_type": "stream",
     "text": [
      "La distribución de las categorías (incluyendo nulos) para la columna GENDER\n"
     ]
    },
    {
     "data": {
      "text/plain": [
       "Gender\n",
       "Female        33.306709\n",
       "Male          32.827476\n",
       "Non-binary    26.437700\n",
       "29             0.798722\n",
       "28             0.798722\n",
       "27             0.718850\n",
       "24             0.718850\n",
       "31             0.638978\n",
       "22             0.638978\n",
       "34             0.479233\n",
       "25             0.479233\n",
       "33             0.479233\n",
       "26             0.399361\n",
       "21             0.319489\n",
       "30             0.239617\n",
       "23             0.159744\n",
       "35             0.159744\n",
       "32             0.159744\n",
       "Marie          0.079872\n",
       "NaN            0.079872\n",
       "Facebook       0.079872\n",
       "Name: proportion, dtype: float64"
      ]
     },
     "metadata": {},
     "output_type": "display_data"
    },
    {
     "name": "stdout",
     "output_type": "stream",
     "text": [
      "........................\n",
      "La distribución de las categorías (incluyendo nulos) para la columna PLATFORM\n"
     ]
    },
    {
     "data": {
      "text/plain": [
       "Platform\n",
       "Instagram    24.281150\n",
       "Facebook     19.888179\n",
       "Twitter      19.488818\n",
       "LinkedIn     12.300319\n",
       "Snapchat      8.945687\n",
       "Telegram      7.827476\n",
       "Whatsapp      7.108626\n",
       "NaN           0.079872\n",
       "55            0.079872\n",
       "Name: proportion, dtype: float64"
      ]
     },
     "metadata": {},
     "output_type": "display_data"
    },
    {
     "name": "stdout",
     "output_type": "stream",
     "text": [
      "........................\n",
      "La distribución de las categorías (incluyendo nulos) para la columna MESSAGES_SENT_PER_DAY\n"
     ]
    },
    {
     "data": {
      "text/plain": [
       "Messages_Sent_Per_Day\n",
       "20         9.904153\n",
       "18         9.345048\n",
       "25         7.827476\n",
       "12         7.268371\n",
       "22         7.028754\n",
       "30         6.709265\n",
       "10         5.591054\n",
       "28         5.031949\n",
       "15         4.233227\n",
       "35         2.635783\n",
       "38         2.396166\n",
       "14.0       2.396166\n",
       "24         2.316294\n",
       "33         1.837061\n",
       "11         1.837061\n",
       "26         1.757188\n",
       "45         1.597444\n",
       "12         1.118211\n",
       "27         1.118211\n",
       "20         1.118211\n",
       "17         1.038339\n",
       "31         0.958466\n",
       "21         0.958466\n",
       "40.0       0.878594\n",
       "50.0       0.798722\n",
       "23         0.798722\n",
       "19.0       0.798722\n",
       "22         0.798722\n",
       "25         0.798722\n",
       "29         0.798722\n",
       "30         0.798722\n",
       "15         0.718850\n",
       "10         0.718850\n",
       "28         0.638978\n",
       "18         0.559105\n",
       "35         0.479233\n",
       "27         0.479233\n",
       "14         0.319489\n",
       "11         0.319489\n",
       "45         0.319489\n",
       "21         0.319489\n",
       "40         0.239617\n",
       "23         0.239617\n",
       "24         0.239617\n",
       "32         0.239617\n",
       "29         0.239617\n",
       "26         0.159744\n",
       "38         0.159744\n",
       "17         0.159744\n",
       "19         0.159744\n",
       "9.0        0.079872\n",
       "32.0       0.079872\n",
       "8.0        0.079872\n",
       "NaN        0.079872\n",
       "13         0.079872\n",
       "34         0.079872\n",
       "31         0.079872\n",
       "Anxiety    0.079872\n",
       "50         0.079872\n",
       "39         0.079872\n",
       "Name: proportion, dtype: float64"
      ]
     },
     "metadata": {},
     "output_type": "display_data"
    },
    {
     "name": "stdout",
     "output_type": "stream",
     "text": [
      "........................\n",
      "La distribución de las categorías (incluyendo nulos) para la columna DOMINANT_EMOTION\n"
     ]
    },
    {
     "data": {
      "text/plain": [
       "Dominant_Emotion\n",
       "Neutral      20.607029\n",
       "Happiness    19.329073\n",
       "Anxiety      17.811502\n",
       "Sadness      15.894569\n",
       "Boredom      13.897764\n",
       "Anger        12.220447\n",
       "NaN           0.159744\n",
       "Agression     0.079872\n",
       "Name: proportion, dtype: float64"
      ]
     },
     "metadata": {},
     "output_type": "display_data"
    },
    {
     "name": "stdout",
     "output_type": "stream",
     "text": [
      "........................\n"
     ]
    }
   ],
   "source": [
    "for col in categorical_with_nulls:\n",
    "    print(f\"La distribución de las categorías (incluyendo nulos) para la columna\", col.upper())\n",
    "    display(df[col].value_counts(dropna=False, normalize=True) * 100)  # Convertimos a porcentaje\n",
    "    print(\"........................\")"
   ]
  },
  {
   "cell_type": "markdown",
   "metadata": {},
   "source": [
    "### **Gender** 🚻"
   ]
  },
  {
   "cell_type": "code",
   "execution_count": 31,
   "metadata": {},
   "outputs": [
    {
     "data": {
      "text/plain": [
       "array(['Female', 'Non-binary', 'Male', '27', 'Marie', '24', '29', '33',\n",
       "       '31', '22', '25', '28', '30', '23', '34', '26', '35', '21', '32',\n",
       "       nan, 'Facebook'], dtype=object)"
      ]
     },
     "execution_count": 31,
     "metadata": {},
     "output_type": "execute_result"
    }
   ],
   "source": [
    "df[\"Gender\"].unique()"
   ]
  },
  {
   "cell_type": "code",
   "execution_count": 32,
   "metadata": {},
   "outputs": [],
   "source": [
    "df[\"Gender\"] = df[\"Gender\"].replace([\"Marie\", \"Facebook\"], np.nan)\n"
   ]
  },
  {
   "cell_type": "code",
   "execution_count": 33,
   "metadata": {},
   "outputs": [],
   "source": [
    "df[\"Gender\"] = df[\"Gender\"].mask(pd.to_numeric(df[\"Gender\"], errors='coerce').notna(), np.nan)"
   ]
  },
  {
   "cell_type": "code",
   "execution_count": 34,
   "metadata": {},
   "outputs": [
    {
     "data": {
      "text/plain": [
       "array(['Female', 'Non-binary', 'Male', nan], dtype=object)"
      ]
     },
     "execution_count": 34,
     "metadata": {},
     "output_type": "execute_result"
    }
   ],
   "source": [
    "df[\"Gender\"].unique()"
   ]
  },
  {
   "cell_type": "code",
   "execution_count": 35,
   "metadata": {},
   "outputs": [
    {
     "name": "stdout",
     "output_type": "stream",
     "text": [
      "La distribución de las categorías (incluyendo nulos 🏴) para la columna 'Gender':\n"
     ]
    },
    {
     "data": {
      "text/plain": [
       "Gender\n",
       "Female        33.306709\n",
       "Male          32.827476\n",
       "Non-binary    26.437700\n",
       "NaN            7.428115\n",
       "Name: proportion, dtype: float64"
      ]
     },
     "metadata": {},
     "output_type": "display_data"
    },
    {
     "name": "stdout",
     "output_type": "stream",
     "text": [
      "........................\n"
     ]
    }
   ],
   "source": [
    "columna = \"Gender\"  # Nombre de la columna a analizar\n",
    "\n",
    "# Verificar si la columna existe y tiene valores nulos\n",
    "if columna in df.columns and df[columna].isnull().any():\n",
    "    print(f\"La distribución de las categorías (incluyendo nulos 🏴) para la columna '{columna}':\")\n",
    "    display(df[columna].value_counts(dropna=False, normalize=True) * 100)\n",
    "    print(\"........................\")\n",
    "else:\n",
    "    print(f\"La columna '{columna}' no existe, no tiene nulos o no es de tipo texto (object).\")\n"
   ]
  },
  {
   "cell_type": "code",
   "execution_count": 36,
   "metadata": {},
   "outputs": [
    {
     "name": "stdout",
     "output_type": "stream",
     "text": [
      "0\n"
     ]
    }
   ],
   "source": [
    "#representa un 7,43% y no hay ninguna categoría dominante, creamos nueva categoria\n",
    "df['Gender'] = df['Gender'].fillna('Unknown')\n",
    "print(df['Gender'].isnull().sum())"
   ]
  },
  {
   "cell_type": "markdown",
   "metadata": {},
   "source": [
    "### **Platform** 📳"
   ]
  },
  {
   "cell_type": "code",
   "execution_count": 37,
   "metadata": {},
   "outputs": [
    {
     "data": {
      "text/plain": [
       "array(['Snapchat', 'Telegram', 'Facebook', 'Instagram', 'LinkedIn',\n",
       "       'Twitter', 'Whatsapp', nan, '55'], dtype=object)"
      ]
     },
     "execution_count": 37,
     "metadata": {},
     "output_type": "execute_result"
    }
   ],
   "source": [
    "df[\"Platform\"].unique()"
   ]
  },
  {
   "cell_type": "code",
   "execution_count": 38,
   "metadata": {},
   "outputs": [],
   "source": [
    "# Pasar numericos a nulos\n",
    "df[\"Platform\"] = df[\"Platform\"].mask(pd.to_numeric(df[\"Platform\"], errors='coerce').notna(), np.nan)"
   ]
  },
  {
   "cell_type": "code",
   "execution_count": 39,
   "metadata": {},
   "outputs": [
    {
     "name": "stdout",
     "output_type": "stream",
     "text": [
      "La distribución de las categorías (incluyendo nulos 🏴) para la columna 'Platform':\n"
     ]
    },
    {
     "data": {
      "text/plain": [
       "Platform\n",
       "Instagram    24.281150\n",
       "Facebook     19.888179\n",
       "Twitter      19.488818\n",
       "LinkedIn     12.300319\n",
       "Snapchat      8.945687\n",
       "Telegram      7.827476\n",
       "Whatsapp      7.108626\n",
       "NaN           0.159744\n",
       "Name: proportion, dtype: float64"
      ]
     },
     "metadata": {},
     "output_type": "display_data"
    },
    {
     "name": "stdout",
     "output_type": "stream",
     "text": [
      "........................\n"
     ]
    }
   ],
   "source": [
    "columna = \"Platform\"  # Nombre de la columna a analizar\n",
    "\n",
    "# Verificar si la columna existe y tiene valores nulos\n",
    "if columna in df.columns and df[columna].isnull().any():\n",
    "    print(f\"La distribución de las categorías (incluyendo nulos 🏴) para la columna '{columna}':\")\n",
    "    display(df[columna].value_counts(dropna=False, normalize=True) * 100)\n",
    "    print(\"........................\")\n",
    "else:\n",
    "    print(f\"La columna '{columna}' no existe, no tiene nulos o no es de tipo texto (object).\")\n"
   ]
  },
  {
   "cell_type": "code",
   "execution_count": 40,
   "metadata": {},
   "outputs": [],
   "source": [
    "# Tenemos un bajo % de nulos, menos de un 1%. \n",
    "# Como hay una categoria dominante, llenamos con la moda\n",
    "df['Platform'].fillna(df['Platform'].mode()[0], inplace=True)"
   ]
  },
  {
   "cell_type": "code",
   "execution_count": 41,
   "metadata": {},
   "outputs": [
    {
     "data": {
      "text/plain": [
       "array(['Snapchat', 'Telegram', 'Facebook', 'Instagram', 'LinkedIn',\n",
       "       'Twitter', 'Whatsapp'], dtype=object)"
      ]
     },
     "execution_count": 41,
     "metadata": {},
     "output_type": "execute_result"
    }
   ],
   "source": [
    "# ya no tiene nulos\n",
    "df[\"Platform\"].unique()"
   ]
  },
  {
   "cell_type": "code",
   "execution_count": 42,
   "metadata": {},
   "outputs": [
    {
     "name": "stdout",
     "output_type": "stream",
     "text": [
      "0\n"
     ]
    }
   ],
   "source": [
    "print(df['Platform'].isnull().sum())"
   ]
  },
  {
   "cell_type": "markdown",
   "metadata": {},
   "source": [
    "### **Messages_Sent_Per_Day**"
   ]
  },
  {
   "cell_type": "code",
   "execution_count": 43,
   "metadata": {},
   "outputs": [
    {
     "name": "stdout",
     "output_type": "stream",
     "text": [
      "El número de valores nulos en 'Messages_Sent_Per_Day' es: 1\n"
     ]
    }
   ],
   "source": [
    "# Contar el número de valores nulos en la columna \n",
    "nulos = df[\"Messages_Sent_Per_Day\"].isnull().sum()\n",
    "\n",
    "print(f\"El número de valores nulos en 'Messages_Sent_Per_Day' es: {nulos}\")\n"
   ]
  },
  {
   "cell_type": "code",
   "execution_count": 44,
   "metadata": {},
   "outputs": [
    {
     "data": {
      "text/plain": [
       "array([22, 12, 27, 28, 30, 18, 33, 10, 17, 15, 35, 20, 25, 11, 26, 29, 38,\n",
       "       31, 21, 23, 45, 24, 50.0, 8.0, 40.0, 32.0, 14.0, 9.0, 19.0, nan,\n",
       "       '35', '38', '12', '27', '10', '32', '22', '26', '30', '19', '17',\n",
       "       '25', '20', '29', '28', '40', '15', '18', '14', '21', '24', '45',\n",
       "       '13', '34', '31', '23', '11', 'Anxiety', '50', '39'], dtype=object)"
      ]
     },
     "execution_count": 44,
     "metadata": {},
     "output_type": "execute_result"
    }
   ],
   "source": [
    "df[\"Messages_Sent_Per_Day\"].unique()"
   ]
  },
  {
   "cell_type": "code",
   "execution_count": 45,
   "metadata": {},
   "outputs": [],
   "source": [
    "df[\"Messages_Sent_Per_Day\"] = pd.to_numeric(df[\"Messages_Sent_Per_Day\"], errors=\"coerce\")\n"
   ]
  },
  {
   "cell_type": "code",
   "execution_count": 46,
   "metadata": {},
   "outputs": [
    {
     "data": {
      "image/png": "[encoded data removed]",
      "text/plain": [
       "<Figure size 800x500 with 1 Axes>"
      ]
     },
     "metadata": {},
     "output_type": "display_data"
    }
   ],
   "source": [
    "#Ver histograma\n",
    "\n",
    "plt.figure(figsize=(8, 5))\n",
    "plt.hist(df[\"Messages_Sent_Per_Day\"].dropna(), bins=30, color='skyblue', edgecolor='black')\n",
    "plt.title(f'Histograma de {\"Messages_Sent_Per_Day\"}')\n",
    "plt.xlabel(col)\n",
    "plt.ylabel('Frecuencia')\n",
    "plt.show()"
   ]
  },
  {
   "cell_type": "code",
   "execution_count": 47,
   "metadata": {},
   "outputs": [],
   "source": [
    "  # Rellenar los 2 nulos con la mediana y convertir a tipo de dato int\n",
    "df[\"Messages_Sent_Per_Day\"] = df[\"Messages_Sent_Per_Day\"].fillna(df[\"Messages_Sent_Per_Day\"].median())\n",
    "df[\"Messages_Sent_Per_Day\"] = df[\"Messages_Sent_Per_Day\"].astype(int)\n"
   ]
  },
  {
   "cell_type": "markdown",
   "metadata": {},
   "source": [
    "### **Dominant_Emotion**"
   ]
  },
  {
   "cell_type": "code",
   "execution_count": 48,
   "metadata": {},
   "outputs": [
    {
     "data": {
      "text/plain": [
       "2"
      ]
     },
     "execution_count": 48,
     "metadata": {},
     "output_type": "execute_result"
    }
   ],
   "source": [
    "df[\"Dominant_Emotion\"].isnull().sum()"
   ]
  },
  {
   "cell_type": "code",
   "execution_count": 49,
   "metadata": {},
   "outputs": [
    {
     "data": {
      "text/plain": [
       "array(['Neutral', 'Anxiety', 'Happiness', 'Boredom', 'Sadness', 'Anger',\n",
       "       nan, 'Agression'], dtype=object)"
      ]
     },
     "execution_count": 49,
     "metadata": {},
     "output_type": "execute_result"
    }
   ],
   "source": [
    "df[\"Dominant_Emotion\"].unique()"
   ]
  },
  {
   "cell_type": "code",
   "execution_count": 50,
   "metadata": {},
   "outputs": [
    {
     "data": {
      "text/plain": [
       "Dominant_Emotion\n",
       "Neutral      258\n",
       "Happiness    242\n",
       "Anxiety      223\n",
       "Sadness      199\n",
       "Boredom      174\n",
       "Anger        153\n",
       "Agression      1\n",
       "Name: count, dtype: int64"
      ]
     },
     "execution_count": 50,
     "metadata": {},
     "output_type": "execute_result"
    }
   ],
   "source": [
    "df[\"Dominant_Emotion\"].value_counts()"
   ]
  },
  {
   "cell_type": "code",
   "execution_count": 51,
   "metadata": {},
   "outputs": [],
   "source": [
    "# Tratar los nulo con la categoría dominante más frecuente\n",
    "df[\"Dominant_Emotion\"] = df[\"Dominant_Emotion\"].fillna(df[\"Dominant_Emotion\"].mode()[0])\n"
   ]
  },
  {
   "cell_type": "markdown",
   "metadata": {},
   "source": [
    "##### *Comprobamos que ya no quedan columnas con nulos*"
   ]
  },
  {
   "cell_type": "code",
   "execution_count": 52,
   "metadata": {},
   "outputs": [
    {
     "data": {
      "text/plain": [
       "User_ID                       0\n",
       "Age                           0\n",
       "Gender                        0\n",
       "Platform                      0\n",
       "Daily_Usage_Time (minutes)    0\n",
       "Posts_Per_Day                 0\n",
       "Likes_Received_Per_Day        0\n",
       "Comments_Received_Per_Day     0\n",
       "Messages_Sent_Per_Day         0\n",
       "Dominant_Emotion              0\n",
       "dtype: int64"
      ]
     },
     "execution_count": 52,
     "metadata": {},
     "output_type": "execute_result"
    }
   ],
   "source": [
    "#comprobar al final\n",
    "df.isnull().sum()"
   ]
  },
  {
   "cell_type": "markdown",
   "metadata": {},
   "source": [
    "#### **Atypical Values, Data Types and Normalization**"
   ]
  },
  {
   "cell_type": "code",
   "execution_count": 53,
   "metadata": {},
   "outputs": [],
   "source": [
    "# una vez gestionados los nulos, modificamos los tipos de datos a enteros para simplificar el análisis\n",
    "\n",
    "df['Age'] = df['Age'].astype(int)\n",
    "df['Daily_Usage_Time (minutes)'] = df['Daily_Usage_Time (minutes)'].astype(int)\n",
    "df['Posts_Per_Day'] = df['Posts_Per_Day'].astype(int)\n",
    "df['Likes_Received_Per_Day'] = df['Likes_Received_Per_Day'].astype(int)\n",
    "\n",
    "#Comments_Received_Per_Day y Messages_Sent_Per_day ya estan cambiados a INT"
   ]
  },
  {
   "cell_type": "code",
   "execution_count": 54,
   "metadata": {},
   "outputs": [
    {
     "data": {
      "text/plain": [
       "User_ID                       object\n",
       "Age                            int32\n",
       "Gender                        object\n",
       "Platform                      object\n",
       "Daily_Usage_Time (minutes)     int32\n",
       "Posts_Per_Day                  int32\n",
       "Likes_Received_Per_Day         int32\n",
       "Comments_Received_Per_Day      int32\n",
       "Messages_Sent_Per_Day          int32\n",
       "Dominant_Emotion              object\n",
       "dtype: object"
      ]
     },
     "execution_count": 54,
     "metadata": {},
     "output_type": "execute_result"
    }
   ],
   "source": [
    "df.dtypes"
   ]
  },
  {
   "cell_type": "code",
   "execution_count": 55,
   "metadata": {},
   "outputs": [],
   "source": [
    "# DECIDIR JUNTAS SI CAMBIAMOS EL FORMATO DE LOS NOMBRES DE LAS COLUMNAS"
   ]
  },
  {
   "cell_type": "markdown",
   "metadata": {},
   "source": [
    "#### **Duplicates Management** -> PENDIENTE VER CUANDO YA NO HAYA NULOS!"
   ]
  },
  {
   "cell_type": "code",
   "execution_count": 56,
   "metadata": {},
   "outputs": [
    {
     "name": "stdout",
     "output_type": "stream",
     "text": [
      "<class 'pandas.core.frame.DataFrame'>\n",
      "Index: 1252 entries, 0 to 147\n",
      "Data columns (total 10 columns):\n",
      " #   Column                      Non-Null Count  Dtype \n",
      "---  ------                      --------------  ----- \n",
      " 0   User_ID                     1252 non-null   object\n",
      " 1   Age                         1252 non-null   int32 \n",
      " 2   Gender                      1252 non-null   object\n",
      " 3   Platform                    1252 non-null   object\n",
      " 4   Daily_Usage_Time (minutes)  1252 non-null   int32 \n",
      " 5   Posts_Per_Day               1252 non-null   int32 \n",
      " 6   Likes_Received_Per_Day      1252 non-null   int32 \n",
      " 7   Comments_Received_Per_Day   1252 non-null   int32 \n",
      " 8   Messages_Sent_Per_Day       1252 non-null   int32 \n",
      " 9   Dominant_Emotion            1252 non-null   object\n",
      "dtypes: int32(6), object(4)\n",
      "memory usage: 78.2+ KB\n"
     ]
    }
   ],
   "source": [
    "df.info()"
   ]
  },
  {
   "cell_type": "code",
   "execution_count": 57,
   "metadata": {},
   "outputs": [
    {
     "data": {
      "text/html": [
       "<div>\n",
       "<style scoped>\n",
       "    .dataframe tbody tr th:only-of-type {\n",
       "        vertical-align: middle;\n",
       "    }\n",
       "\n",
       "    .dataframe tbody tr th {\n",
       "        vertical-align: top;\n",
       "    }\n",
       "\n",
       "    .dataframe thead th {\n",
       "        text-align: right;\n",
       "    }\n",
       "</style>\n",
       "<table border=\"1\" class=\"dataframe\">\n",
       "  <thead>\n",
       "    <tr style=\"text-align: right;\">\n",
       "      <th></th>\n",
       "      <th>User_ID</th>\n",
       "      <th>Age</th>\n",
       "      <th>Gender</th>\n",
       "      <th>Platform</th>\n",
       "      <th>Daily_Usage_Time (minutes)</th>\n",
       "      <th>Posts_Per_Day</th>\n",
       "      <th>Likes_Received_Per_Day</th>\n",
       "      <th>Comments_Received_Per_Day</th>\n",
       "      <th>Messages_Sent_Per_Day</th>\n",
       "      <th>Dominant_Emotion</th>\n",
       "    </tr>\n",
       "  </thead>\n",
       "  <tbody>\n",
       "    <tr>\n",
       "      <th>102</th>\n",
       "      <td>60</td>\n",
       "      <td>27</td>\n",
       "      <td>Male</td>\n",
       "      <td>Facebook</td>\n",
       "      <td>60</td>\n",
       "      <td>1</td>\n",
       "      <td>10</td>\n",
       "      <td>4</td>\n",
       "      <td>15</td>\n",
       "      <td>Boredom</td>\n",
       "    </tr>\n",
       "    <tr>\n",
       "      <th>24</th>\n",
       "      <td>100</td>\n",
       "      <td>27</td>\n",
       "      <td>Female</td>\n",
       "      <td>Snapchat</td>\n",
       "      <td>120</td>\n",
       "      <td>4</td>\n",
       "      <td>38</td>\n",
       "      <td>13</td>\n",
       "      <td>22</td>\n",
       "      <td>Neutral</td>\n",
       "    </tr>\n",
       "    <tr>\n",
       "      <th>84</th>\n",
       "      <td>119</td>\n",
       "      <td>23</td>\n",
       "      <td>Non-binary</td>\n",
       "      <td>LinkedIn</td>\n",
       "      <td>50</td>\n",
       "      <td>1</td>\n",
       "      <td>12</td>\n",
       "      <td>6</td>\n",
       "      <td>12</td>\n",
       "      <td>Neutral</td>\n",
       "    </tr>\n",
       "    <tr>\n",
       "      <th>133</th>\n",
       "      <td>185</td>\n",
       "      <td>29</td>\n",
       "      <td>Non-binary</td>\n",
       "      <td>Facebook</td>\n",
       "      <td>75</td>\n",
       "      <td>2</td>\n",
       "      <td>20</td>\n",
       "      <td>8</td>\n",
       "      <td>20</td>\n",
       "      <td>Boredom</td>\n",
       "    </tr>\n",
       "    <tr>\n",
       "      <th>25</th>\n",
       "      <td>211</td>\n",
       "      <td>23</td>\n",
       "      <td>Female</td>\n",
       "      <td>Twitter</td>\n",
       "      <td>75</td>\n",
       "      <td>4</td>\n",
       "      <td>45</td>\n",
       "      <td>20</td>\n",
       "      <td>25</td>\n",
       "      <td>Anxiety</td>\n",
       "    </tr>\n",
       "    <tr>\n",
       "      <th>102</th>\n",
       "      <td>211</td>\n",
       "      <td>23</td>\n",
       "      <td>Female</td>\n",
       "      <td>Twitter</td>\n",
       "      <td>75</td>\n",
       "      <td>4</td>\n",
       "      <td>45</td>\n",
       "      <td>20</td>\n",
       "      <td>25</td>\n",
       "      <td>Anxiety</td>\n",
       "    </tr>\n",
       "    <tr>\n",
       "      <th>116</th>\n",
       "      <td>227</td>\n",
       "      <td>27</td>\n",
       "      <td>Non-binary</td>\n",
       "      <td>LinkedIn</td>\n",
       "      <td>55</td>\n",
       "      <td>1</td>\n",
       "      <td>9</td>\n",
       "      <td>2</td>\n",
       "      <td>11</td>\n",
       "      <td>Anxiety</td>\n",
       "    </tr>\n",
       "    <tr>\n",
       "      <th>92</th>\n",
       "      <td>343</td>\n",
       "      <td>29</td>\n",
       "      <td>Male</td>\n",
       "      <td>Twitter</td>\n",
       "      <td>95</td>\n",
       "      <td>4</td>\n",
       "      <td>50</td>\n",
       "      <td>22</td>\n",
       "      <td>22</td>\n",
       "      <td>Anger</td>\n",
       "    </tr>\n",
       "    <tr>\n",
       "      <th>16</th>\n",
       "      <td>371</td>\n",
       "      <td>24</td>\n",
       "      <td>Female</td>\n",
       "      <td>Instagram</td>\n",
       "      <td>140</td>\n",
       "      <td>4</td>\n",
       "      <td>65</td>\n",
       "      <td>22</td>\n",
       "      <td>30</td>\n",
       "      <td>Happiness</td>\n",
       "    </tr>\n",
       "    <tr>\n",
       "      <th>90</th>\n",
       "      <td>372</td>\n",
       "      <td>35</td>\n",
       "      <td>Male</td>\n",
       "      <td>Twitter</td>\n",
       "      <td>70</td>\n",
       "      <td>1</td>\n",
       "      <td>13</td>\n",
       "      <td>8</td>\n",
       "      <td>10</td>\n",
       "      <td>Boredom</td>\n",
       "    </tr>\n",
       "    <tr>\n",
       "      <th>4</th>\n",
       "      <td>376</td>\n",
       "      <td>28</td>\n",
       "      <td>Non-binary</td>\n",
       "      <td>Snapchat</td>\n",
       "      <td>115</td>\n",
       "      <td>3</td>\n",
       "      <td>38</td>\n",
       "      <td>18</td>\n",
       "      <td>27</td>\n",
       "      <td>Anxiety</td>\n",
       "    </tr>\n",
       "    <tr>\n",
       "      <th>108</th>\n",
       "      <td>481</td>\n",
       "      <td>31</td>\n",
       "      <td>Male</td>\n",
       "      <td>Telegram</td>\n",
       "      <td>50</td>\n",
       "      <td>2</td>\n",
       "      <td>20</td>\n",
       "      <td>10</td>\n",
       "      <td>12</td>\n",
       "      <td>Sadness</td>\n",
       "    </tr>\n",
       "    <tr>\n",
       "      <th>75</th>\n",
       "      <td>526</td>\n",
       "      <td>31</td>\n",
       "      <td>Male</td>\n",
       "      <td>Facebook</td>\n",
       "      <td>80</td>\n",
       "      <td>2</td>\n",
       "      <td>20</td>\n",
       "      <td>10</td>\n",
       "      <td>20</td>\n",
       "      <td>Neutral</td>\n",
       "    </tr>\n",
       "    <tr>\n",
       "      <th>50</th>\n",
       "      <td>719</td>\n",
       "      <td>23</td>\n",
       "      <td>Non-binary</td>\n",
       "      <td>LinkedIn</td>\n",
       "      <td>50</td>\n",
       "      <td>1</td>\n",
       "      <td>12</td>\n",
       "      <td>6</td>\n",
       "      <td>12</td>\n",
       "      <td>Neutral</td>\n",
       "    </tr>\n",
       "    <tr>\n",
       "      <th>120</th>\n",
       "      <td>776</td>\n",
       "      <td>28</td>\n",
       "      <td>Non-binary</td>\n",
       "      <td>Snapchat</td>\n",
       "      <td>115</td>\n",
       "      <td>3</td>\n",
       "      <td>38</td>\n",
       "      <td>18</td>\n",
       "      <td>27</td>\n",
       "      <td>Anxiety</td>\n",
       "    </tr>\n",
       "    <tr>\n",
       "      <th>34</th>\n",
       "      <td>776</td>\n",
       "      <td>28</td>\n",
       "      <td>Non-binary</td>\n",
       "      <td>Snapchat</td>\n",
       "      <td>115</td>\n",
       "      <td>3</td>\n",
       "      <td>38</td>\n",
       "      <td>18</td>\n",
       "      <td>27</td>\n",
       "      <td>Anxiety</td>\n",
       "    </tr>\n",
       "    <tr>\n",
       "      <th>144</th>\n",
       "      <td>830</td>\n",
       "      <td>26</td>\n",
       "      <td>Non-binary</td>\n",
       "      <td>Facebook</td>\n",
       "      <td>45</td>\n",
       "      <td>1</td>\n",
       "      <td>8</td>\n",
       "      <td>4</td>\n",
       "      <td>12</td>\n",
       "      <td>Sadness</td>\n",
       "    </tr>\n",
       "    <tr>\n",
       "      <th>118</th>\n",
       "      <td>847</td>\n",
       "      <td>21</td>\n",
       "      <td>Female</td>\n",
       "      <td>Twitter</td>\n",
       "      <td>90</td>\n",
       "      <td>3</td>\n",
       "      <td>37</td>\n",
       "      <td>14</td>\n",
       "      <td>20</td>\n",
       "      <td>Sadness</td>\n",
       "    </tr>\n",
       "    <tr>\n",
       "      <th>112</th>\n",
       "      <td>872</td>\n",
       "      <td>35</td>\n",
       "      <td>Male</td>\n",
       "      <td>Twitter</td>\n",
       "      <td>70</td>\n",
       "      <td>1</td>\n",
       "      <td>13</td>\n",
       "      <td>8</td>\n",
       "      <td>10</td>\n",
       "      <td>Boredom</td>\n",
       "    </tr>\n",
       "    <tr>\n",
       "      <th>7</th>\n",
       "      <td>872</td>\n",
       "      <td>35</td>\n",
       "      <td>Male</td>\n",
       "      <td>Twitter</td>\n",
       "      <td>70</td>\n",
       "      <td>1</td>\n",
       "      <td>13</td>\n",
       "      <td>8</td>\n",
       "      <td>10</td>\n",
       "      <td>Boredom</td>\n",
       "    </tr>\n",
       "    <tr>\n",
       "      <th>5</th>\n",
       "      <td>876</td>\n",
       "      <td>28</td>\n",
       "      <td>Non-binary</td>\n",
       "      <td>Snapchat</td>\n",
       "      <td>115</td>\n",
       "      <td>3</td>\n",
       "      <td>38</td>\n",
       "      <td>18</td>\n",
       "      <td>27</td>\n",
       "      <td>Anxiety</td>\n",
       "    </tr>\n",
       "    <tr>\n",
       "      <th>69</th>\n",
       "      <td>944</td>\n",
       "      <td>23</td>\n",
       "      <td>Non-binary</td>\n",
       "      <td>Facebook</td>\n",
       "      <td>105</td>\n",
       "      <td>2</td>\n",
       "      <td>25</td>\n",
       "      <td>12</td>\n",
       "      <td>18</td>\n",
       "      <td>Neutral</td>\n",
       "    </tr>\n",
       "  </tbody>\n",
       "</table>\n",
       "</div>"
      ],
      "text/plain": [
       "    User_ID  Age      Gender   Platform  Daily_Usage_Time (minutes)  \\\n",
       "102      60   27        Male   Facebook                          60   \n",
       "24      100   27      Female   Snapchat                         120   \n",
       "84      119   23  Non-binary   LinkedIn                          50   \n",
       "133     185   29  Non-binary   Facebook                          75   \n",
       "25      211   23      Female    Twitter                          75   \n",
       "102     211   23      Female    Twitter                          75   \n",
       "116     227   27  Non-binary   LinkedIn                          55   \n",
       "92      343   29        Male    Twitter                          95   \n",
       "16      371   24      Female  Instagram                         140   \n",
       "90      372   35        Male    Twitter                          70   \n",
       "4       376   28  Non-binary   Snapchat                         115   \n",
       "108     481   31        Male   Telegram                          50   \n",
       "75      526   31        Male   Facebook                          80   \n",
       "50      719   23  Non-binary   LinkedIn                          50   \n",
       "120     776   28  Non-binary   Snapchat                         115   \n",
       "34      776   28  Non-binary   Snapchat                         115   \n",
       "144     830   26  Non-binary   Facebook                          45   \n",
       "118     847   21      Female    Twitter                          90   \n",
       "112     872   35        Male    Twitter                          70   \n",
       "7       872   35        Male    Twitter                          70   \n",
       "5       876   28  Non-binary   Snapchat                         115   \n",
       "69      944   23  Non-binary   Facebook                         105   \n",
       "\n",
       "     Posts_Per_Day  Likes_Received_Per_Day  Comments_Received_Per_Day  \\\n",
       "102              1                      10                          4   \n",
       "24               4                      38                         13   \n",
       "84               1                      12                          6   \n",
       "133              2                      20                          8   \n",
       "25               4                      45                         20   \n",
       "102              4                      45                         20   \n",
       "116              1                       9                          2   \n",
       "92               4                      50                         22   \n",
       "16               4                      65                         22   \n",
       "90               1                      13                          8   \n",
       "4                3                      38                         18   \n",
       "108              2                      20                         10   \n",
       "75               2                      20                         10   \n",
       "50               1                      12                          6   \n",
       "120              3                      38                         18   \n",
       "34               3                      38                         18   \n",
       "144              1                       8                          4   \n",
       "118              3                      37                         14   \n",
       "112              1                      13                          8   \n",
       "7                1                      13                          8   \n",
       "5                3                      38                         18   \n",
       "69               2                      25                         12   \n",
       "\n",
       "     Messages_Sent_Per_Day Dominant_Emotion  \n",
       "102                     15          Boredom  \n",
       "24                      22          Neutral  \n",
       "84                      12          Neutral  \n",
       "133                     20          Boredom  \n",
       "25                      25          Anxiety  \n",
       "102                     25          Anxiety  \n",
       "116                     11          Anxiety  \n",
       "92                      22            Anger  \n",
       "16                      30        Happiness  \n",
       "90                      10          Boredom  \n",
       "4                       27          Anxiety  \n",
       "108                     12          Sadness  \n",
       "75                      20          Neutral  \n",
       "50                      12          Neutral  \n",
       "120                     27          Anxiety  \n",
       "34                      27          Anxiety  \n",
       "144                     12          Sadness  \n",
       "118                     20          Sadness  \n",
       "112                     10          Boredom  \n",
       "7                       10          Boredom  \n",
       "5                       27          Anxiety  \n",
       "69                      18          Neutral  "
      ]
     },
     "execution_count": 57,
     "metadata": {},
     "output_type": "execute_result"
    }
   ],
   "source": [
    "duplicates= df[df.duplicated()].sort_values(by=\"User_ID\")\n",
    "duplicates\n"
   ]
  },
  {
   "cell_type": "code",
   "execution_count": 58,
   "metadata": {},
   "outputs": [
    {
     "data": {
      "text/plain": [
       "(1252, 10)"
      ]
     },
     "execution_count": 58,
     "metadata": {},
     "output_type": "execute_result"
    }
   ],
   "source": [
    "df.shape"
   ]
  },
  {
   "cell_type": "code",
   "execution_count": 59,
   "metadata": {},
   "outputs": [],
   "source": [
    "# Eliminar solo las duplicadas, manteniendo la primera aparición\n",
    "df = df.drop_duplicates(keep='first')\n"
   ]
  },
  {
   "cell_type": "code",
   "execution_count": 60,
   "metadata": {},
   "outputs": [
    {
     "data": {
      "text/plain": [
       "(1230, 10)"
      ]
     },
     "execution_count": 60,
     "metadata": {},
     "output_type": "execute_result"
    }
   ],
   "source": [
    "df.shape"
   ]
  },
  {
   "cell_type": "code",
   "execution_count": 61,
   "metadata": {},
   "outputs": [
    {
     "name": "stdout",
     "output_type": "stream",
     "text": [
      "<class 'pandas.core.frame.DataFrame'>\n",
      "Index: 1230 entries, 0 to 147\n",
      "Data columns (total 10 columns):\n",
      " #   Column                      Non-Null Count  Dtype \n",
      "---  ------                      --------------  ----- \n",
      " 0   User_ID                     1230 non-null   object\n",
      " 1   Age                         1230 non-null   int32 \n",
      " 2   Gender                      1230 non-null   object\n",
      " 3   Platform                    1230 non-null   object\n",
      " 4   Daily_Usage_Time (minutes)  1230 non-null   int32 \n",
      " 5   Posts_Per_Day               1230 non-null   int32 \n",
      " 6   Likes_Received_Per_Day      1230 non-null   int32 \n",
      " 7   Comments_Received_Per_Day   1230 non-null   int32 \n",
      " 8   Messages_Sent_Per_Day       1230 non-null   int32 \n",
      " 9   Dominant_Emotion            1230 non-null   object\n",
      "dtypes: int32(6), object(4)\n",
      "memory usage: 76.9+ KB\n"
     ]
    }
   ],
   "source": [
    "df.info()"
   ]
  },
  {
   "cell_type": "markdown",
   "metadata": {},
   "source": [
    "##### *Comprobamos que ya no quedan entradas duplicadas*"
   ]
  },
  {
   "cell_type": "code",
   "execution_count": 62,
   "metadata": {},
   "outputs": [
    {
     "data": {
      "text/plain": [
       "0"
      ]
     },
     "execution_count": 62,
     "metadata": {},
     "output_type": "execute_result"
    }
   ],
   "source": [
    "df.duplicated().sum()"
   ]
  },
  {
   "cell_type": "code",
   "execution_count": 69,
   "metadata": {},
   "outputs": [
    {
     "data": {
      "text/plain": [
       "User_ID\n",
       "185    2\n",
       "733    2\n",
       "275    2\n",
       "810    2\n",
       "986    2\n",
       "      ..\n",
       "312    1\n",
       "311    1\n",
       "310    1\n",
       "309    1\n",
       "493    1\n",
       "Name: count, Length: 1218, dtype: int64"
      ]
     },
     "execution_count": 69,
     "metadata": {},
     "output_type": "execute_result"
    }
   ],
   "source": [
    "df['User_ID'].value_counts()"
   ]
  },
  {
   "cell_type": "code",
   "execution_count": 67,
   "metadata": {},
   "outputs": [
    {
     "data": {
      "text/plain": [
       "12"
      ]
     },
     "execution_count": 67,
     "metadata": {},
     "output_type": "execute_result"
    }
   ],
   "source": [
    "df['User_ID'].duplicated().sum()"
   ]
  },
  {
   "cell_type": "code",
   "execution_count": 64,
   "metadata": {},
   "outputs": [],
   "source": [
    "# Cambiar nombres de columnas\n",
    "df = df.rename(columns={\n",
    "    \"Daily_Usage_Time (minutes)\" : \"Dayli_usage_time\",\n",
    "    \"Posts_Per_Day\": \"Post_per_day\",\n",
    "    \"Likes_Received_Per_Day\" : \"Likes_received_per_day\",\n",
    "    \"Comments_Received_Per_Day\" : \"Comments_received_per_day\",\n",
    "    \"Messages_Sent_Per_Day\" : \"Messages_sent_per_day\",\n",
    "    \"Dominant_Emotion\": \"Dominant_emotion\"\n",
    "})\n"
   ]
  },
  {
   "cell_type": "code",
   "execution_count": 65,
   "metadata": {},
   "outputs": [
    {
     "name": "stdout",
     "output_type": "stream",
     "text": [
      "<class 'pandas.core.frame.DataFrame'>\n",
      "Index: 1230 entries, 0 to 147\n",
      "Data columns (total 10 columns):\n",
      " #   Column                     Non-Null Count  Dtype \n",
      "---  ------                     --------------  ----- \n",
      " 0   User_ID                    1230 non-null   object\n",
      " 1   Age                        1230 non-null   int32 \n",
      " 2   Gender                     1230 non-null   object\n",
      " 3   Platform                   1230 non-null   object\n",
      " 4   Dayli_usage_time           1230 non-null   int32 \n",
      " 5   Post_per_day               1230 non-null   int32 \n",
      " 6   Likes_received_per_day     1230 non-null   int32 \n",
      " 7   Comments_received_per_day  1230 non-null   int32 \n",
      " 8   Messages_sent_per_day      1230 non-null   int32 \n",
      " 9   Dominant_emotion           1230 non-null   object\n",
      "dtypes: int32(6), object(4)\n",
      "memory usage: 76.9+ KB\n"
     ]
    }
   ],
   "source": [
    "df.info()"
   ]
  },
  {
   "cell_type": "code",
   "execution_count": 66,
   "metadata": {},
   "outputs": [],
   "source": [
    "df.to_csv('df_socialmedia.csv', index=False)\n"
   ]
  }
 ],
 "metadata": {
  "kernelspec": {
   "display_name": "base",
   "language": "python",
   "name": "python3"
  },
  "language_info": {
   "codemirror_mode": {
    "name": "ipython",
    "version": 3
   },
   "file_extension": ".py",
   "mimetype": "text/x-python",
   "name": "python",
   "nbconvert_exporter": "python",
   "pygments_lexer": "ipython3",
   "version": "3.12.7"
  }
 },
 "nbformat": 4,
 "nbformat_minor": 2
}
